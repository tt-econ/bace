{
 "cells": [
  {
   "cell_type": "markdown",
   "metadata": {},
   "source": [
    "# Notebook for Reestimating Preference Parameters Using Experimental Data\n",
    "\n",
    "This notebook allows you to reestimate preference parameters using the full experimental data for each subject.\n",
    "\n",
    "You can use the original prior distribution and likelihood specification, or you can specify a new prior or choice model that you would like to estimate.\n",
    "\n",
    "Begin by importing the required packages and BACE functions."
   ]
  },
  {
   "cell_type": "code",
   "execution_count": 1,
   "metadata": {},
   "outputs": [],
   "source": [
    "# Import pandas\n",
    "import pandas as pd\n",
    "\n",
    "# Import database connection and pmc function\n",
    "from database.db import table, decimal_to_float\n",
    "from bace.pmc_inference import pmc\n",
    "from bace.user_config import answers"
   ]
  },
  {
   "cell_type": "markdown",
   "metadata": {},
   "source": [
    "To reestimate preference parameters using the existing BACE specifications, you can run the following line:\n",
    "\n",
    "```\n",
    "from bace.user_config import theta_params, likelihood_pdf, size_thetas\n",
    "```\n",
    "\n",
    "Alternatively, you can specify each of the following parameters using the same process that you used to define the components in `app/bace/user_config.py`:\n",
    "- `theta_params`: Specifies the prior distribution.\n",
    "- `likelihood_pdf`: Specify the likelihood of observing each answer in answers.\n",
    "- `size_thetas`: The size of the sample drawn from `theta_params`. Since speed is less important outside of an experiment, you can improve the precision of estimates by increasing this number.\n",
    "\n",
    "Note that the choice model defined in `likelihood_pdf` can depend on new preference parameters in `theta_params` or combinations of the original design components that an individual saw.\n",
    "\n",
    "In this example, we will use the existing BACE specifications."
   ]
  },
  {
   "cell_type": "code",
   "execution_count": 2,
   "metadata": {},
   "outputs": [],
   "source": [
    "from bace.user_config import theta_params, likelihood_pdf, size_thetas"
   ]
  },
  {
   "cell_type": "markdown",
   "metadata": {},
   "source": [
    "Now, specify `estimation_version` with notes that you want to record in the output file, and specify `output_file` with the path that you want to use to save your `.csv`."
   ]
  },
  {
   "cell_type": "code",
   "execution_count": 3,
   "metadata": {},
   "outputs": [],
   "source": [
    "# Notes to store in output file\n",
    "estimation_version = \"PMC_reestimation\"\n",
    "\n",
    "# Output file path.\n",
    "output_file = \"../data/reestimation.csv\"\n"
   ]
  },
  {
   "cell_type": "markdown",
   "metadata": {},
   "source": [
    "The following function is used to clean the design and answer histories for each individual in the database.\n",
    "\n",
    "It ensures that the design and answer histories are the same length for re-estimation; these can differ if, for example, an individual exited the survey early."
   ]
  },
  {
   "cell_type": "code",
   "execution_count": 4,
   "metadata": {},
   "outputs": [],
   "source": [
    "def clean_designs_and_answers(item, answers):\n",
    "\n",
    "    str_answers = [str(answer) for answer in answers]\n",
    "    \n",
    "    design_hist = item['design_history'].copy()\n",
    "    answer_hist = item['answer_history'].copy()\n",
    "    answer_hist.extend([None] * (len(design_hist) - len(answer_hist)))\n",
    "\n",
    "    # Store Output\n",
    "    design_history = []\n",
    "    answer_history = []\n",
    "\n",
    "\n",
    "    for design, answer in zip(design_hist, answer_hist):\n",
    "\n",
    "        if (design is not None) and (answer is not None) and (str(answer) in str_answers):\n",
    "\n",
    "            design_history.append(design)\n",
    "            answer_history.append(answer)\n",
    "\n",
    "    return design_history, answer_history"
   ]
  },
  {
   "cell_type": "markdown",
   "metadata": {},
   "source": [
    "The following code queries your database for all items. Each item contains all information for an individual survey respondent, which is characterized by a unique `profile_id`.\n",
    "\n",
    "For each item, the script reestimates preference parameters using the new prior distribution and choice model that you have specified.\n",
    "\n",
    "An individual's IDs, the number of questions used for re-estimation, and preference estimates are exported in a csv."
   ]
  },
  {
   "cell_type": "code",
   "execution_count": 6,
   "metadata": {},
   "outputs": [],
   "source": [
    "# Query all items in database\n",
    "db_items = table.scan()['Items']\n",
    "\n",
    "output = []\n",
    "\n",
    "for item in db_items:\n",
    "\n",
    "    # Conver DynamoDB Decimal type to floats\n",
    "    item = decimal_to_float(item)\n",
    "\n",
    "    # Get cleaned design and answer histories.\n",
    "    design_history, answer_history = clean_designs_and_answers(item, answers)\n",
    "    ND = len(design_history)\n",
    "\n",
    "    # Estimate preferences if the individual answered at least one question.\n",
    "    if ND > 0:\n",
    "\n",
    "        try:\n",
    "\n",
    "            #################################################################################\n",
    "            ### Edit this block to update the method for calculating posterior estimates. ###\n",
    "            #################################################################################\n",
    "\n",
    "\n",
    "            # Compute posterior estimates using Population Monte Carlo\n",
    "            posterior_thetas = pmc(\n",
    "                theta_params, \n",
    "                answer_history, \n",
    "                design_history, \n",
    "                likelihood_pdf, \n",
    "                size_thetas\n",
    "            )\n",
    "\n",
    "            # Calculate the mean and median posterior estimate for each parameter.\n",
    "            # Update this code to store alternative statistics.\n",
    "            estimates = posterior_thetas.agg(['mean', 'median']).to_dict()\n",
    "\n",
    "            #############################################################################\n",
    "            #############################################################################\n",
    "\n",
    "            reestimation_successful = 1\n",
    "\n",
    "        \n",
    "        except:\n",
    "\n",
    "            # What do you want to happen if the re-estimation triggers an error?\n",
    "            reestimation_successful = 0\n",
    "            estimates = {}\n",
    "\n",
    "        # Store output. \n",
    "        # You can add additional variables associated with an item using item.get('var') to the exported csv.\n",
    "        individual_output = {\n",
    "            \"profile_id\": item.get(\"profile_id\"),\n",
    "            \"estimation_version\": estimation_version,\n",
    "            \"n_designs\": ND,\n",
    "            \"reestimation_successful\": reestimation_successful,\n",
    "            **estimates\n",
    "        }\n",
    "\n",
    "        output.append(individual_output)\n",
    "\n",
    "\n",
    "# Convert output to dataframe and write to .csv\n",
    "output_df = pd.json_normalize(output)\n",
    "output_df.to_csv(output_file, index=False)"
   ]
  },
  {
   "cell_type": "markdown",
   "metadata": {},
   "source": [
    "Note that you can update this code block above to adjust other components of the reestimation.\n",
    "\n",
    "For example, the notebook defaults to using Population Monte Carlo to reestimate preferences.\n",
    "\n",
    "If you want to estimate preferences using an alternative method, you can update the following block. For example, you could perform logistic regression using each individual's data or you can use an alternative method to perform Bayesian Inference.\n",
    "\n",
    "You can also edit what statistics are saved when forming estimates.\n",
    "\n",
    "```\n",
    "#############################################################################\n",
    "### Edit this block to update the method for calculating posterior estimates.\n",
    "#############################################################################\n",
    "\n",
    "# Compute posterior estimates using Population Monte Carlo\n",
    "posterior_thetas = pmc(\n",
    "    theta_params, \n",
    "    answer_history, \n",
    "    design_history, \n",
    "    likelihood_pdf, \n",
    "    size_thetas\n",
    ")\n",
    "\n",
    "# Calculate the mean and median posterior estimate for each parameter.\n",
    "# Update this code to store alternative statistics.\n",
    "estimates = posterior_thetas.agg(['mean', 'median']).to_dict()\n",
    "\n",
    "#############################################################################\n",
    "#############################################################################\n",
    "```\n",
    "\n",
    "We hope this notebook is useful for recomputing preference estimates after an experiment."
   ]
  }
 ],
 "metadata": {
  "kernelspec": {
   "display_name": "Python 3",
   "language": "python",
   "name": "python3"
  },
  "language_info": {
   "codemirror_mode": {
    "name": "ipython",
    "version": 3
   },
   "file_extension": ".py",
   "mimetype": "text/x-python",
   "name": "python",
   "nbconvert_exporter": "python",
   "pygments_lexer": "ipython3",
   "version": "3.10.1"
  }
 },
 "nbformat": 4,
 "nbformat_minor": 2
}
