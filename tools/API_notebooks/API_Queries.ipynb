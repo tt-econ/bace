{
  "cells": [
    {
      "cell_type": "code",
      "execution_count": 1,
      "metadata": {},
      "outputs": [
        {
          "name": "stdout",
          "output_type": "stream",
          "text": [
            "URL for your API\n",
            "https://r3ue9e2bf3.execute-api.us-east-2.amazonaws.com/Prod/\n"
          ]
        }
      ],
      "source": [
        "# Preliminaries\n",
        "import json\n",
        "import requests\n",
        "import subprocess\n",
        "import time\n",
        "import boto3\n",
        "from IPython.display import display, HTML\n",
        "\n",
        "stack_name = 'bace-app' # Replace with the stack name created with `sam deploy --guided`, which is saved in the SAM configuration file (samconfig.toml by default).\n",
        "output_key = 'BaceApi' # See under Outputs in `template.yaml`\n",
        "# Update `region` below to the region created with `sam deploy --guided`, saved in the SAM configuration file (samconfig.toml by default)\n",
        "#   if different from the default region in ~/.aws/config (or C:\\Users\\USERNAME\\.aws\\config)\n",
        "region = boto3.Session().region_name # example if different from default: region = 'us-east-2'\n",
        "# os.environ['AWS_PROFILE'] = \"YOUR_AWS_PROFILE_NAME\" # Set this if your current AWS login profile is not the default one -- see profiles in ~/.aws/config (or C:\\Users\\USERNAME\\.aws\\config)\n",
        "\n",
        "# Use subprocess to run the AWS CLI command\n",
        "command = f'aws cloudformation describe-stacks --stack-name {stack_name} --region {region} --query \"Stacks[].Outputs[?OutputKey==\\'{output_key}\\'].OutputValue\" --output text'\n",
        "result = subprocess.run(command, stdout=subprocess.PIPE, shell=True)\n",
        "\n",
        "# Extract the output from the command result\n",
        "base_url = result.stdout.decode('utf-8').strip()\n",
        "print(f'URL for your API\\n{base_url}')"
      ]
    },
    {
      "cell_type": "markdown",
      "metadata": {
        "id": "gu3CkzJM_C2S"
      },
      "source": [
        "# Homepage\n",
        "\n",
        "GET Request to test that the application is up and running.\n",
        "\n",
        "We recommend running this block each time you push a new version of BACE so that the machine gets warmed up.\n",
        "Otherwise the initial call may take 10 to 20 seconds for warming up."
      ]
    },
    {
      "cell_type": "code",
      "execution_count": 2,
      "metadata": {
        "colab": {
          "base_uri": "https://localhost:8080/"
        },
        "id": "uuOwwb8V_LIi",
        "outputId": "9e89a2cd-cb8c-4b50-adac-d6c1c1b037f5"
      },
      "outputs": [
        {
          "name": "stdout",
          "output_type": "stream",
          "text": [
            "Initial call may take a moment due to cold state of machine...\n",
            "\n",
            "Response:\n",
            "{'message': 'Hello! Your BACE application is up and running.', 'author': 'Pen Example Application'}\n",
            "Time to receive first call: 24.2078378200531s\n",
            "\n",
            "Second call should be shorter if machine was dormant...\n",
            "\n",
            "Time to receive second call: 0.15543913841247559s\n"
          ]
        }
      ],
      "source": [
        "print('Initial call may take a moment due to cold state of machine...\\n')\n",
        "\n",
        "# First Call\n",
        "t0 = time.time()\n",
        "route = \"/\"\n",
        "homepage = requests.get(\n",
        "    f'{base_url}{route}'\n",
        ")\n",
        "print('Response:')\n",
        "print(json.loads(homepage.text))\n",
        "print(f'Time to receive first call: {time.time() - t0}s\\n')\n",
        "\n",
        "print('Second call should be shorter if machine was dormant...\\n')\n",
        "# Second Call\n",
        "t0 = time.time()\n",
        "route = \"/\"\n",
        "homepage = requests.get(\n",
        "    f'{base_url}{route}'\n",
        ")\n",
        "print(f'Time to receive second call: {time.time() - t0}s')"
      ]
    },
    {
      "cell_type": "markdown",
      "metadata": {
        "id": "JBQRysSk7gUR"
      },
      "source": [
        "# Random Design\n",
        "\n",
        "GET request to receive a random design"
      ]
    },
    {
      "cell_type": "code",
      "execution_count": 3,
      "metadata": {
        "colab": {
          "base_uri": "https://localhost:8080/"
        },
        "id": "rj58wtPg7kz-",
        "outputId": "d9a4fe44-c1d4-4910-fa7f-ec865a524142"
      },
      "outputs": [
        {
          "name": "stdout",
          "output_type": "stream",
          "text": [
            "{'color_a': 'Black', 'color_b': 'Blue', 'price_a': 1.1720134431400515, 'price_b': 4.447465373096071, 'type_a': 'Gel', 'type_b': 'Gel'}\n"
          ]
        }
      ],
      "source": [
        "route = \"/random_design\"\n",
        "design = requests.get(\n",
        "    f'{base_url}{route}'\n",
        ")\n",
        "\n",
        "print(json.loads(design.text))"
      ]
    },
    {
      "cell_type": "markdown",
      "metadata": {
        "id": "hUm6aUj75CAN"
      },
      "source": [
        "# Route: /create_profile\n",
        "\n",
        "API request to create a new profile for an individual."
      ]
    },
    {
      "cell_type": "code",
      "execution_count": 4,
      "metadata": {
        "colab": {
          "base_uri": "https://localhost:8080/"
        },
        "id": "EYVxKVgb49Nf",
        "outputId": "9bad48e9-8a0a-4005-e4dc-6ad305a1e023"
      },
      "outputs": [
        {
          "name": "stdout",
          "output_type": "stream",
          "text": [
            "{'profile_id': 'e78ed168-6223-4e93-a0a0-ce6c1870cb53', 'color_a_1': 'Blue', 'color_b_1': 'Black', 'price_a_1': 3.051616111643358, 'price_b_1': 1.8828288121214483, 'type_a_1': 'Gel', 'type_b_1': 'Ballpoint', 'message_0_1': '\\n        <table width=\\'300px\\' border=\\'1\\' cellpadding=\\'1\\' cellspacing=\\'1\\' style=\\'font-family: Arial, Tahoma, \"Helvetica Neue\", Helvetica, sans-serif; border-collapse:collapse; background-color:#eee9e7; color:black;\\'>\\n            <tbody>\\n                <tr>\\n                    <th style=\"text-align: center; background-color: #ded4ce;\"><b>Pen A</b></th>\\n                </tr>\\n                <tr>\\n                    <td style=\"text-align: center;\"><em>Price:</em><br> $3.05</td>\\n                </tr>\\n                <tr>\\n                    <td style=\"text-align: center;\"><em>Pen Color:</em><br> Blue</td>\\n                </tr>\\n                <tr>\\n                    <td style=\"text-align: center;\"><em>Pen Type:</em><br> Gel</td>\\n                </tr>\\n            </tbody>\\n        </table>\\n    ', 'message_1_1': '\\n        <table width=\\'300px\\' border=\\'1\\' cellpadding=\\'1\\' cellspacing=\\'1\\' style=\\'font-family: Arial, Tahoma, \"Helvetica Neue\", Helvetica, sans-serif; border-collapse:collapse; background-color:#eee9e7; color:black;\\'>\\n            <tbody>\\n                <tr>\\n                    <th style=\"text-align: center; background-color: #ded4ce;\"><b>Pen B</b></th>\\n                </tr>\\n                <tr>\\n                    <td style=\"text-align: center;\"><em>Price:</em><br> $1.88</td>\\n                </tr>\\n                <tr>\\n                    <td style=\"text-align: center;\"><em>Pen Color:</em><br> Black</td>\\n                </tr>\\n                <tr>\\n                    <td style=\"text-align: center;\"><em>Pen Type:</em><br> Ballpoint</td>\\n                </tr>\\n            </tbody>\\n        </table>\\n    '}\n"
          ]
        },
        {
          "data": {
            "text/html": [
              "\n",
              "        <table width='300px' border='1' cellpadding='1' cellspacing='1' style='font-family: Arial, Tahoma, \"Helvetica Neue\", Helvetica, sans-serif; border-collapse:collapse; background-color:#eee9e7; color:black;'>\n",
              "            <tbody>\n",
              "                <tr>\n",
              "                    <th style=\"text-align: center; background-color: #ded4ce;\"><b>Pen A</b></th>\n",
              "                </tr>\n",
              "                <tr>\n",
              "                    <td style=\"text-align: center;\"><em>Price:</em><br> $3.05</td>\n",
              "                </tr>\n",
              "                <tr>\n",
              "                    <td style=\"text-align: center;\"><em>Pen Color:</em><br> Blue</td>\n",
              "                </tr>\n",
              "                <tr>\n",
              "                    <td style=\"text-align: center;\"><em>Pen Type:</em><br> Gel</td>\n",
              "                </tr>\n",
              "            </tbody>\n",
              "        </table>\n",
              "    "
            ],
            "text/plain": [
              "<IPython.core.display.HTML object>"
            ]
          },
          "metadata": {},
          "output_type": "display_data"
        },
        {
          "data": {
            "text/html": [
              "\n",
              "        <table width='300px' border='1' cellpadding='1' cellspacing='1' style='font-family: Arial, Tahoma, \"Helvetica Neue\", Helvetica, sans-serif; border-collapse:collapse; background-color:#eee9e7; color:black;'>\n",
              "            <tbody>\n",
              "                <tr>\n",
              "                    <th style=\"text-align: center; background-color: #ded4ce;\"><b>Pen B</b></th>\n",
              "                </tr>\n",
              "                <tr>\n",
              "                    <td style=\"text-align: center;\"><em>Price:</em><br> $1.88</td>\n",
              "                </tr>\n",
              "                <tr>\n",
              "                    <td style=\"text-align: center;\"><em>Pen Color:</em><br> Black</td>\n",
              "                </tr>\n",
              "                <tr>\n",
              "                    <td style=\"text-align: center;\"><em>Pen Type:</em><br> Ballpoint</td>\n",
              "                </tr>\n",
              "            </tbody>\n",
              "        </table>\n",
              "    "
            ],
            "text/plain": [
              "<IPython.core.display.HTML object>"
            ]
          },
          "metadata": {},
          "output_type": "display_data"
        }
      ],
      "source": [
        "route = \"/create_profile\"\n",
        "\n",
        "data = {\n",
        "    \"survey_id\": \"test_colab\",\n",
        "    # Include additional variables that you want stored with an individual's profile here.\n",
        "}\n",
        "\n",
        "r = requests.post(\n",
        "    f'{base_url}{route}',\n",
        "    data=data\n",
        ")\n",
        "\n",
        "r = json.loads(r.text)\n",
        "profile_id = r.get('profile_id')\n",
        "\n",
        "print(r)\n",
        "\n",
        "try:\n",
        "    display(HTML(r['message_0_1']))\n",
        "    display(HTML(r['message_1_1']))\n",
        "except:\n",
        "    print(r)"
      ]
    },
    {
      "cell_type": "markdown",
      "metadata": {
        "id": "9sgTKKUNhWBt"
      },
      "source": [
        "# Route /update_profile\n",
        "\n",
        "API request to update profile for an individual"
      ]
    },
    {
      "cell_type": "code",
      "execution_count": 5,
      "metadata": {
        "colab": {
          "base_uri": "https://localhost:8080/"
        },
        "id": "3xkONdRNhadw",
        "outputId": "4478d1a4-f425-4baf-e411-371828ee06f3"
      },
      "outputs": [
        {
          "data": {
            "text/html": [
              "\n",
              "        <table width='300px' border='1' cellpadding='1' cellspacing='1' style='font-family: Arial, Tahoma, \"Helvetica Neue\", Helvetica, sans-serif; border-collapse:collapse; background-color:#eee9e7; color:black;'>\n",
              "            <tbody>\n",
              "                <tr>\n",
              "                    <th style=\"text-align: center; background-color: #ded4ce;\"><b>Pen A</b></th>\n",
              "                </tr>\n",
              "                <tr>\n",
              "                    <td style=\"text-align: center;\"><em>Price:</em><br> $0.89</td>\n",
              "                </tr>\n",
              "                <tr>\n",
              "                    <td style=\"text-align: center;\"><em>Pen Color:</em><br> Blue</td>\n",
              "                </tr>\n",
              "                <tr>\n",
              "                    <td style=\"text-align: center;\"><em>Pen Type:</em><br> Ballpoint</td>\n",
              "                </tr>\n",
              "            </tbody>\n",
              "        </table>\n",
              "    "
            ],
            "text/plain": [
              "<IPython.core.display.HTML object>"
            ]
          },
          "metadata": {},
          "output_type": "display_data"
        },
        {
          "data": {
            "text/html": [
              "\n",
              "        <table width='300px' border='1' cellpadding='1' cellspacing='1' style='font-family: Arial, Tahoma, \"Helvetica Neue\", Helvetica, sans-serif; border-collapse:collapse; background-color:#eee9e7; color:black;'>\n",
              "            <tbody>\n",
              "                <tr>\n",
              "                    <th style=\"text-align: center; background-color: #ded4ce;\"><b>Pen B</b></th>\n",
              "                </tr>\n",
              "                <tr>\n",
              "                    <td style=\"text-align: center;\"><em>Price:</em><br> $1.35</td>\n",
              "                </tr>\n",
              "                <tr>\n",
              "                    <td style=\"text-align: center;\"><em>Pen Color:</em><br> Black</td>\n",
              "                </tr>\n",
              "                <tr>\n",
              "                    <td style=\"text-align: center;\"><em>Pen Type:</em><br> Gel</td>\n",
              "                </tr>\n",
              "            </tbody>\n",
              "        </table>\n",
              "    "
            ],
            "text/plain": [
              "<IPython.core.display.HTML object>"
            ]
          },
          "metadata": {},
          "output_type": "display_data"
        }
      ],
      "source": [
        "##### Answer to previous question ########\n",
        "answer = 1\n",
        "##########################################\n",
        "\n",
        "route = \"/update_profile\"\n",
        "data = {\n",
        "    \"profile_id\": profile_id,\n",
        "    \"answer\": answer\n",
        "}\n",
        "\n",
        "r = requests.post(\n",
        "    f'{base_url}{route}',\n",
        "    data=data\n",
        ")\n",
        "\n",
        "r = json.loads(r.text)\n",
        "\n",
        "question_number = list(r.keys())[0].rpartition('_')[-1]\n",
        "\n",
        "try:\n",
        "    display(HTML(r[f'message_0_{question_number}']))\n",
        "    display(HTML(r[f'message_1_{question_number}']))\n",
        "except:\n",
        "    print(r)"
      ]
    },
    {
      "cell_type": "markdown",
      "metadata": {
        "id": "tYNUi_yJsxMt"
      },
      "source": [
        "# Posterior Estimates\n",
        "\n",
        "Route: /estimates"
      ]
    },
    {
      "cell_type": "markdown",
      "metadata": {
        "id": "5vL7LIx8mOhB"
      },
      "source": [
        "## POST\n",
        "API request to update profile with a given answer and return estimates"
      ]
    },
    {
      "cell_type": "code",
      "execution_count": 6,
      "metadata": {
        "colab": {
          "base_uri": "https://localhost:8080/"
        },
        "id": "A1bGJA65nesr",
        "outputId": "f5c87825-ccfa-4491-91ca-f823abf3b6a6"
      },
      "outputs": [
        {
          "name": "stdout",
          "output_type": "stream",
          "text": [
            "{'blue_ink': {'mean': -1.0807718211387642, 'median': -1.1588708512663266, 'std': 0.6206758708352549}, 'gel_pen': {'mean': 0.9170514174472643, 'median': 0.9081326760738433, 'std': 0.7465664841923879}, 'mu': {'mean': 5.570841133681229, 'median': 5.596005996831457, 'std': 2.590838335460322}}\n"
          ]
        }
      ],
      "source": [
        "##### Answer to previous question ########\n",
        "answer = 1\n",
        "##########################################\n",
        "\n",
        "route = \"/estimates\"\n",
        "data = {\n",
        "    \"profile_id\": profile_id,\n",
        "    \"answer\": answer\n",
        "}\n",
        "\n",
        "r = requests.post(\n",
        "    f'{base_url}{route}',\n",
        "    data=data\n",
        ")\n",
        "\n",
        "r = json.loads(r.text)\n",
        "print(r)"
      ]
    },
    {
      "attachments": {},
      "cell_type": "markdown",
      "metadata": {
        "id": "TL6W8-pzs-er"
      },
      "source": [
        "## GET\n",
        "API request to return estimates for a given profile"
      ]
    },
    {
      "cell_type": "code",
      "execution_count": 7,
      "metadata": {
        "colab": {
          "base_uri": "https://localhost:8080/"
        },
        "id": "P6dz_pIUtHvL",
        "outputId": "75e13d0a-7b64-4a4a-8cd9-ced3e351cf5c"
      },
      "outputs": [
        {
          "name": "stdout",
          "output_type": "stream",
          "text": [
            "{'mu': {'median': '5.596005996831457', 'mean': '5.570841133681229', 'std': '2.590838335460322'}, 'blue_ink': {'median': '-1.1588708512663266', 'mean': '-1.0807718211387642', 'std': '0.6206758708352549'}, 'gel_pen': {'median': '0.9081326760738433', 'mean': '0.9170514174472643', 'std': '0.7465664841923879'}}\n"
          ]
        }
      ],
      "source": [
        "route = \"/estimates\"\n",
        "params = {\n",
        "    \"profile_id\": profile_id,\n",
        "}\n",
        "\n",
        "r = requests.get(\n",
        "    f'{base_url}{route}',\n",
        "    params=params\n",
        ")\n",
        "\n",
        "r = json.loads(r.text)\n",
        "\n",
        "print(r)"
      ]
    }
  ],
  "metadata": {
    "colab": {
      "collapsed_sections": [
        "iiypzqH7SuQd"
      ],
      "provenance": []
    },
    "kernelspec": {
      "display_name": "Python 3",
      "name": "python3"
    },
    "language_info": {
      "codemirror_mode": {
        "name": "ipython",
        "version": 3
      },
      "file_extension": ".py",
      "mimetype": "text/x-python",
      "name": "python",
      "nbconvert_exporter": "python",
      "pygments_lexer": "ipython3",
      "version": "3.9.18"
    }
  },
  "nbformat": 4,
  "nbformat_minor": 0
}
