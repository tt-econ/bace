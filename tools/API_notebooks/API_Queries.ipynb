{
  "cells": [
    {
      "cell_type": "code",
      "execution_count": null,
      "metadata": {},
      "outputs": [],
      "source": [
        "# Preliminaries\n",
        "import json\n",
        "import requests\n",
        "import subprocess\n",
        "import time\n",
        "from IPython.display import display, HTML\n",
        "\n",
        "stack_name = 'sam-app' # Replace with the stack name you used when creating the application.\n",
        "output_key = 'BaceApi' # Replace with the key for the BaceApi URL. Line 77 in `template.yaml`\n",
        "\n",
        "# Use subprocess to run the AWS CLI command\n",
        "command = f'aws cloudformation describe-stacks --stack-name {stack_name} --query \"Stacks[].Outputs[?OutputKey==`{output_key}`].OutputValue\" --output text'\n",
        "result = subprocess.run(command, stdout=subprocess.PIPE, shell=True)\n",
        "\n",
        "# Extract the output from the command result\n",
        "base_url = result.stdout.decode('utf-8').strip()\n",
        "print(f'URL for your API\\n{base_url}')"
      ]
    },
    {
      "cell_type": "markdown",
      "metadata": {
        "id": "gu3CkzJM_C2S"
      },
      "source": [
        "# Homepage\n",
        "\n",
        "GET Request to test that the application is up and running"
      ]
    },
    {
      "cell_type": "code",
      "execution_count": null,
      "metadata": {
        "colab": {
          "base_uri": "https://localhost:8080/"
        },
        "id": "uuOwwb8V_LIi",
        "outputId": "9e89a2cd-cb8c-4b50-adac-d6c1c1b037f5"
      },
      "outputs": [],
      "source": [
        "print('Initial call may take a moment due to cold state of machine...\\n')\n",
        "\n",
        "# First Call\n",
        "t0 = time.time()\n",
        "route = \"/\"\n",
        "homepage = requests.get(\n",
        "    f'{base_url}{route}'\n",
        ")\n",
        "print('Response:')\n",
        "print(json.loads(homepage.text))\n",
        "print(f'Time to receive first call: {time.time() - t0}s\\n')\n",
        "\n",
        "print('Second call should be shorter if machine was dormant...\\n')\n",
        "# Second Call\n",
        "t0 = time.time()\n",
        "route = \"/\"\n",
        "homepage = requests.get(\n",
        "    f'{base_url}{route}'\n",
        ")\n",
        "print(f'Time to receive second call: {time.time() - t0}s')"
      ]
    },
    {
      "cell_type": "markdown",
      "metadata": {
        "id": "JBQRysSk7gUR"
      },
      "source": [
        "# Random Design\n",
        "\n",
        "GET request to receive a random design"
      ]
    },
    {
      "cell_type": "code",
      "execution_count": null,
      "metadata": {
        "colab": {
          "base_uri": "https://localhost:8080/"
        },
        "id": "rj58wtPg7kz-",
        "outputId": "d9a4fe44-c1d4-4910-fa7f-ec865a524142"
      },
      "outputs": [],
      "source": [
        "route = \"/random_design\"\n",
        "design = requests.get(\n",
        "    f'{base_url}{route}'\n",
        ")\n",
        "\n",
        "print(json.loads(design.text))"
      ]
    },
    {
      "cell_type": "markdown",
      "metadata": {
        "id": "hUm6aUj75CAN"
      },
      "source": [
        "# Route: /create_profile\n",
        "\n",
        "API request to create a new profile for an individual."
      ]
    },
    {
      "cell_type": "code",
      "execution_count": null,
      "metadata": {
        "colab": {
          "base_uri": "https://localhost:8080/"
        },
        "id": "EYVxKVgb49Nf",
        "outputId": "9bad48e9-8a0a-4005-e4dc-6ad305a1e023"
      },
      "outputs": [],
      "source": [
        "route = \"/create_profile\"\n",
        "data = {\n",
        "    \"survey_id\": \"test_colab\",\n",
        "    # Include additional variables that you want stored with an individual's profile here.\n",
        "}\n",
        "r = requests.post(\n",
        "    f'{base_url}{route}',\n",
        "    data=data\n",
        ")\n",
        "\n",
        "r = json.loads(r.text)\n",
        "print(r)\n",
        "profile_id = r.get('profile_id')\n",
        "\n",
        "try:\n",
        "    display(HTML(r['design']['message_a']))\n",
        "    display(HTML(r['design']['message_b']))\n",
        "except:\n",
        "    print(r['design'])"
      ]
    },
    {
      "cell_type": "markdown",
      "metadata": {
        "id": "9sgTKKUNhWBt"
      },
      "source": [
        "# Route /update_profile\n",
        "\n",
        "API request to update profile for an individual"
      ]
    },
    {
      "cell_type": "code",
      "execution_count": null,
      "metadata": {
        "colab": {
          "base_uri": "https://localhost:8080/"
        },
        "id": "3xkONdRNhadw",
        "outputId": "4478d1a4-f425-4baf-e411-371828ee06f3"
      },
      "outputs": [],
      "source": [
        "##### Answer to previous question ########\n",
        "answer = 1\n",
        "##########################################\n",
        "\n",
        "route = \"/update_profile\"\n",
        "data = {\n",
        "    \"profile_id\": profile_id,\n",
        "    \"answer\": answer\n",
        "}\n",
        "\n",
        "r = requests.post(\n",
        "    f'{base_url}{route}',\n",
        "    data=data\n",
        ")\n",
        "\n",
        "r = json.loads(r.text)\n",
        "\n",
        "try:\n",
        "    display(HTML(r['design']['message_a']))\n",
        "    display(HTML(r['design']['message_b']))\n",
        "except:\n",
        "    print(r)"
      ]
    },
    {
      "cell_type": "markdown",
      "metadata": {
        "id": "tYNUi_yJsxMt"
      },
      "source": [
        "# Posterior Estimates\n",
        "\n",
        "Route: /estimates"
      ]
    },
    {
      "cell_type": "markdown",
      "metadata": {
        "id": "5vL7LIx8mOhB"
      },
      "source": [
        "## POST\n",
        "API request to update profile with a given answer and return estimates"
      ]
    },
    {
      "cell_type": "code",
      "execution_count": null,
      "metadata": {
        "colab": {
          "base_uri": "https://localhost:8080/"
        },
        "id": "A1bGJA65nesr",
        "outputId": "f5c87825-ccfa-4491-91ca-f823abf3b6a6"
      },
      "outputs": [],
      "source": [
        "##### Answer to previous question ########\n",
        "answer = 1\n",
        "##########################################\n",
        "\n",
        "route = \"/estimates\"\n",
        "data = {\n",
        "    \"profile_id\": profile_id,\n",
        "    \"answer\": answer\n",
        "}\n",
        "\n",
        "r = requests.post(\n",
        "    f'{base_url}{route}',\n",
        "    data=data\n",
        ")\n",
        "\n",
        "r = json.loads(r.text)\n",
        "print(r)"
      ]
    },
    {
      "attachments": {},
      "cell_type": "markdown",
      "metadata": {
        "id": "TL6W8-pzs-er"
      },
      "source": [
        "## GET\n",
        "API request to return estimates for a given profile"
      ]
    },
    {
      "cell_type": "code",
      "execution_count": null,
      "metadata": {
        "colab": {
          "base_uri": "https://localhost:8080/"
        },
        "id": "P6dz_pIUtHvL",
        "outputId": "75e13d0a-7b64-4a4a-8cd9-ced3e351cf5c"
      },
      "outputs": [],
      "source": [
        "route = \"/estimates\"\n",
        "params = {\n",
        "    \"profile_id\": profile_id,\n",
        "}\n",
        "\n",
        "r = requests.get(\n",
        "    f'{base_url}{route}',\n",
        "    params=params\n",
        ")\n",
        "\n",
        "r = json.loads(r.text)\n",
        "\n",
        "print(r)"
      ]
    }
  ],
  "metadata": {
    "colab": {
      "collapsed_sections": [
        "iiypzqH7SuQd"
      ],
      "provenance": []
    },
    "kernelspec": {
      "display_name": "Python 3",
      "name": "python3"
    },
    "language_info": {
      "codemirror_mode": {
        "name": "ipython",
        "version": 3
      },
      "file_extension": ".py",
      "mimetype": "text/x-python",
      "name": "python",
      "nbconvert_exporter": "python",
      "pygments_lexer": "ipython3",
      "version": "3.10.1"
    }
  },
  "nbformat": 4,
  "nbformat_minor": 0
}
