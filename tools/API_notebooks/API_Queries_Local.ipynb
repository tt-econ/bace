{
  "cells": [
    {
      "attachments": {},
      "cell_type": "markdown",
      "metadata": {},
      "source": [
        "# Notebook for Debugging BACE Application Locally\n",
        "\n",
        "To run your API locally and debug the application:\n",
        "\n",
        "* Run `sam build` to create the current version of your local application.\n",
        "* Run `sam local start-api` from the root directory of your application.\n",
        "\n",
        "This creates a local host for you application that you can access by default at `http://localhost:3000/`.\n",
        "\n",
        "* Note: \n",
        "  * if you do not exit the `sam local start-api` call correctly (the command line will show you the right exit command: `Press CTRL+C to quit`), then you'll get the error message `Port 3000 is in use by another program.` the next time you run `sam local start-api`.\n",
        "  * In that case, on Mac/Linux, you can clear the stale call from the command line as follows:\n",
        "  \n",
        "    ```bash\n",
        "        lsof -i tcp:3000\n",
        "        kill -9 PID\n",
        "    ```\n",
        "    The first command locates the PID of the existing `sam` command call to port 3000. Use that PID in the second command.\n",
        "\n",
        "Use this notebook to test API calls locally. This can be particularly helpful for debugging the `app/bace/user_convert.py` functions.\n",
        "\n",
        "When you make changes to your local files, make sure to rerun `sam build` so that these changes are reflected in your local application.\n",
        "\n",
        "Please note that the observed speeds from testing the application locally may not accurately reflect the speeds you will experience when the application is deployed on the cloud."
      ]
    },
    {
      "cell_type": "code",
      "execution_count": 1,
      "metadata": {},
      "outputs": [
        {
          "name": "stdout",
          "output_type": "stream",
          "text": [
            "URL for your API\n",
            "http://localhost:3000\n"
          ]
        }
      ],
      "source": [
        "# Preliminaries\n",
        "import json\n",
        "import requests\n",
        "import time\n",
        "from IPython.display import display, HTML\n",
        "\n",
        "\n",
        "base_url = \"http://localhost:3000\"\n",
        "print(f'URL for your API\\n{base_url}')"
      ]
    },
    {
      "cell_type": "markdown",
      "metadata": {
        "id": "gu3CkzJM_C2S"
      },
      "source": [
        "# Homepage\n",
        "\n",
        "GET Request to test that the application is up and running"
      ]
    },
    {
      "cell_type": "code",
      "execution_count": 2,
      "metadata": {
        "colab": {
          "base_uri": "https://localhost:8080/"
        },
        "id": "uuOwwb8V_LIi",
        "outputId": "9e89a2cd-cb8c-4b50-adac-d6c1c1b037f5"
      },
      "outputs": [
        {
          "name": "stdout",
          "output_type": "stream",
          "text": [
            "Query local URL homepage.\n",
            "Note: Local queries do not accurately capture the speed from querying the application when it is hosted on AWS.\n",
            "Response:\n",
            "{'message': 'Hello! Your BACE application is up and running.', 'author': 'Pen Example Application'}\n",
            "Time to receive call: 2.9229278564453125s\n",
            "\n"
          ]
        }
      ],
      "source": [
        "print('Query local URL homepage.')\n",
        "print('Note: Local queries do not accurately capture the speed from querying the application when it is hosted on AWS.')\n",
        "\n",
        "# First Call\n",
        "t0 = time.time()\n",
        "route = \"/\"\n",
        "\n",
        "try:\n",
        "    homepage = requests.get(\n",
        "        f'{base_url}{route}'\n",
        "    )\n",
        "    print('Response:')\n",
        "    print(json.loads(homepage.text))\n",
        "    print(f'Time to receive call: {time.time() - t0}s\\n')\n",
        "except:\n",
        "    print('Make sure that you run `sam build` and `sam local start-api` from the command line to host your application locally.')\n"
      ]
    },
    {
      "cell_type": "markdown",
      "metadata": {
        "id": "JBQRysSk7gUR"
      },
      "source": [
        "# Random Design\n",
        "\n",
        "GET request to receive a random design"
      ]
    },
    {
      "cell_type": "code",
      "execution_count": 3,
      "metadata": {
        "colab": {
          "base_uri": "https://localhost:8080/"
        },
        "id": "rj58wtPg7kz-",
        "outputId": "d9a4fe44-c1d4-4910-fa7f-ec865a524142"
      },
      "outputs": [
        {
          "name": "stdout",
          "output_type": "stream",
          "text": [
            "{'color_a': 'Blue', 'color_b': 'Blue', 'price_a': 5.300117943752238, 'price_b': 0.576921695412509, 'type_a': 'Ballpoint', 'type_b': 'Gel'}\n"
          ]
        }
      ],
      "source": [
        "route = \"/random_design\"\n",
        "design = requests.get(\n",
        "    f'{base_url}{route}'\n",
        ")\n",
        "\n",
        "print(json.loads(design.text))"
      ]
    },
    {
      "cell_type": "markdown",
      "metadata": {
        "id": "hUm6aUj75CAN"
      },
      "source": [
        "# Route: /create_profile\n",
        "\n",
        "API request to create a new profile for an individual."
      ]
    },
    {
      "cell_type": "code",
      "execution_count": 4,
      "metadata": {
        "colab": {
          "base_uri": "https://localhost:8080/"
        },
        "id": "EYVxKVgb49Nf",
        "outputId": "9bad48e9-8a0a-4005-e4dc-6ad305a1e023"
      },
      "outputs": [
        {
          "name": "stdout",
          "output_type": "stream",
          "text": [
            "{'profile_id': '689d2a5c-a875-4661-854f-35d9573426be', 'color_a_1': 'Black', 'color_b_1': 'Blue', 'price_a_1': 3.986736670584932, 'price_b_1': 3.965608415582622, 'type_a_1': 'Gel', 'type_b_1': 'Gel', 'message_0_1': '\\n        <table width=\\'300px\\' border=\\'1\\' cellpadding=\\'1\\' cellspacing=\\'1\\' style=\\'font-family: Arial, Tahoma, \"Helvetica Neue\", Helvetica, sans-serif; border-collapse:collapse; background-color:#eee9e7; color:black;\\'>\\n            <tbody>\\n                <tr>\\n                    <th style=\"text-align: center; background-color: #ded4ce;\"><b>Pen A</b></th>\\n                </tr>\\n                <tr>\\n                    <td style=\"text-align: center;\"><em>Price:</em><br> $3.99</td>\\n                </tr>\\n                <tr>\\n                    <td style=\"text-align: center;\"><em>Pen Color:</em><br> Black</td>\\n                </tr>\\n                <tr>\\n                    <td style=\"text-align: center;\"><em>Pen Type:</em><br> Gel</td>\\n                </tr>\\n            </tbody>\\n        </table>\\n    ', 'message_1_1': '\\n        <table width=\\'300px\\' border=\\'1\\' cellpadding=\\'1\\' cellspacing=\\'1\\' style=\\'font-family: Arial, Tahoma, \"Helvetica Neue\", Helvetica, sans-serif; border-collapse:collapse; background-color:#eee9e7; color:black;\\'>\\n            <tbody>\\n                <tr>\\n                    <th style=\"text-align: center; background-color: #ded4ce;\"><b>Pen B</b></th>\\n                </tr>\\n                <tr>\\n                    <td style=\"text-align: center;\"><em>Price:</em><br> $3.97</td>\\n                </tr>\\n                <tr>\\n                    <td style=\"text-align: center;\"><em>Pen Color:</em><br> Blue</td>\\n                </tr>\\n                <tr>\\n                    <td style=\"text-align: center;\"><em>Pen Type:</em><br> Gel</td>\\n                </tr>\\n            </tbody>\\n        </table>\\n    '}\n"
          ]
        },
        {
          "data": {
            "text/html": [
              "\n",
              "        <table width='300px' border='1' cellpadding='1' cellspacing='1' style='font-family: Arial, Tahoma, \"Helvetica Neue\", Helvetica, sans-serif; border-collapse:collapse; background-color:#eee9e7; color:black;'>\n",
              "            <tbody>\n",
              "                <tr>\n",
              "                    <th style=\"text-align: center; background-color: #ded4ce;\"><b>Pen A</b></th>\n",
              "                </tr>\n",
              "                <tr>\n",
              "                    <td style=\"text-align: center;\"><em>Price:</em><br> $3.99</td>\n",
              "                </tr>\n",
              "                <tr>\n",
              "                    <td style=\"text-align: center;\"><em>Pen Color:</em><br> Black</td>\n",
              "                </tr>\n",
              "                <tr>\n",
              "                    <td style=\"text-align: center;\"><em>Pen Type:</em><br> Gel</td>\n",
              "                </tr>\n",
              "            </tbody>\n",
              "        </table>\n",
              "    "
            ],
            "text/plain": [
              "<IPython.core.display.HTML object>"
            ]
          },
          "metadata": {},
          "output_type": "display_data"
        },
        {
          "data": {
            "text/html": [
              "\n",
              "        <table width='300px' border='1' cellpadding='1' cellspacing='1' style='font-family: Arial, Tahoma, \"Helvetica Neue\", Helvetica, sans-serif; border-collapse:collapse; background-color:#eee9e7; color:black;'>\n",
              "            <tbody>\n",
              "                <tr>\n",
              "                    <th style=\"text-align: center; background-color: #ded4ce;\"><b>Pen B</b></th>\n",
              "                </tr>\n",
              "                <tr>\n",
              "                    <td style=\"text-align: center;\"><em>Price:</em><br> $3.97</td>\n",
              "                </tr>\n",
              "                <tr>\n",
              "                    <td style=\"text-align: center;\"><em>Pen Color:</em><br> Blue</td>\n",
              "                </tr>\n",
              "                <tr>\n",
              "                    <td style=\"text-align: center;\"><em>Pen Type:</em><br> Gel</td>\n",
              "                </tr>\n",
              "            </tbody>\n",
              "        </table>\n",
              "    "
            ],
            "text/plain": [
              "<IPython.core.display.HTML object>"
            ]
          },
          "metadata": {},
          "output_type": "display_data"
        }
      ],
      "source": [
        "route = \"/create_profile\"\n",
        "\n",
        "data = {\n",
        "    \"survey_id\": \"test_colab\",\n",
        "    # Include additional variables that you want stored with an individual's profile here.\n",
        "}\n",
        "\n",
        "r = requests.post(\n",
        "    f'{base_url}{route}',\n",
        "    data=data\n",
        ")\n",
        "\n",
        "r = json.loads(r.text)\n",
        "profile_id = r.get('profile_id')\n",
        "\n",
        "print(r)\n",
        "\n",
        "try:\n",
        "    display(HTML(r['message_0_1']))\n",
        "    display(HTML(r['message_1_1']))\n",
        "except:\n",
        "    print(r)"
      ]
    },
    {
      "cell_type": "markdown",
      "metadata": {
        "id": "9sgTKKUNhWBt"
      },
      "source": [
        "# Route /update_profile\n",
        "\n",
        "API request to update profile for an individual"
      ]
    },
    {
      "cell_type": "code",
      "execution_count": 5,
      "metadata": {
        "colab": {
          "base_uri": "https://localhost:8080/"
        },
        "id": "3xkONdRNhadw",
        "outputId": "4478d1a4-f425-4baf-e411-371828ee06f3"
      },
      "outputs": [
        {
          "name": "stdout",
          "output_type": "stream",
          "text": [
            "{'color_a_2': 'Blue', 'color_b_2': 'Black', 'price_a_2': 5.264922325989443, 'price_b_2': 3.9935457400110344, 'type_a_2': 'Gel', 'type_b_2': 'Ballpoint', 'message_0_2': '\\n        <table width=\\'300px\\' border=\\'1\\' cellpadding=\\'1\\' cellspacing=\\'1\\' style=\\'font-family: Arial, Tahoma, \"Helvetica Neue\", Helvetica, sans-serif; border-collapse:collapse; background-color:#eee9e7; color:black;\\'>\\n            <tbody>\\n                <tr>\\n                    <th style=\"text-align: center; background-color: #ded4ce;\"><b>Pen A</b></th>\\n                </tr>\\n                <tr>\\n                    <td style=\"text-align: center;\"><em>Price:</em><br> $5.26</td>\\n                </tr>\\n                <tr>\\n                    <td style=\"text-align: center;\"><em>Pen Color:</em><br> Blue</td>\\n                </tr>\\n                <tr>\\n                    <td style=\"text-align: center;\"><em>Pen Type:</em><br> Gel</td>\\n                </tr>\\n            </tbody>\\n        </table>\\n    ', 'message_1_2': '\\n        <table width=\\'300px\\' border=\\'1\\' cellpadding=\\'1\\' cellspacing=\\'1\\' style=\\'font-family: Arial, Tahoma, \"Helvetica Neue\", Helvetica, sans-serif; border-collapse:collapse; background-color:#eee9e7; color:black;\\'>\\n            <tbody>\\n                <tr>\\n                    <th style=\"text-align: center; background-color: #ded4ce;\"><b>Pen B</b></th>\\n                </tr>\\n                <tr>\\n                    <td style=\"text-align: center;\"><em>Price:</em><br> $3.99</td>\\n                </tr>\\n                <tr>\\n                    <td style=\"text-align: center;\"><em>Pen Color:</em><br> Black</td>\\n                </tr>\\n                <tr>\\n                    <td style=\"text-align: center;\"><em>Pen Type:</em><br> Ballpoint</td>\\n                </tr>\\n            </tbody>\\n        </table>\\n    '}\n"
          ]
        },
        {
          "data": {
            "text/html": [
              "\n",
              "        <table width='300px' border='1' cellpadding='1' cellspacing='1' style='font-family: Arial, Tahoma, \"Helvetica Neue\", Helvetica, sans-serif; border-collapse:collapse; background-color:#eee9e7; color:black;'>\n",
              "            <tbody>\n",
              "                <tr>\n",
              "                    <th style=\"text-align: center; background-color: #ded4ce;\"><b>Pen A</b></th>\n",
              "                </tr>\n",
              "                <tr>\n",
              "                    <td style=\"text-align: center;\"><em>Price:</em><br> $5.26</td>\n",
              "                </tr>\n",
              "                <tr>\n",
              "                    <td style=\"text-align: center;\"><em>Pen Color:</em><br> Blue</td>\n",
              "                </tr>\n",
              "                <tr>\n",
              "                    <td style=\"text-align: center;\"><em>Pen Type:</em><br> Gel</td>\n",
              "                </tr>\n",
              "            </tbody>\n",
              "        </table>\n",
              "    "
            ],
            "text/plain": [
              "<IPython.core.display.HTML object>"
            ]
          },
          "metadata": {},
          "output_type": "display_data"
        },
        {
          "data": {
            "text/html": [
              "\n",
              "        <table width='300px' border='1' cellpadding='1' cellspacing='1' style='font-family: Arial, Tahoma, \"Helvetica Neue\", Helvetica, sans-serif; border-collapse:collapse; background-color:#eee9e7; color:black;'>\n",
              "            <tbody>\n",
              "                <tr>\n",
              "                    <th style=\"text-align: center; background-color: #ded4ce;\"><b>Pen B</b></th>\n",
              "                </tr>\n",
              "                <tr>\n",
              "                    <td style=\"text-align: center;\"><em>Price:</em><br> $3.99</td>\n",
              "                </tr>\n",
              "                <tr>\n",
              "                    <td style=\"text-align: center;\"><em>Pen Color:</em><br> Black</td>\n",
              "                </tr>\n",
              "                <tr>\n",
              "                    <td style=\"text-align: center;\"><em>Pen Type:</em><br> Ballpoint</td>\n",
              "                </tr>\n",
              "            </tbody>\n",
              "        </table>\n",
              "    "
            ],
            "text/plain": [
              "<IPython.core.display.HTML object>"
            ]
          },
          "metadata": {},
          "output_type": "display_data"
        }
      ],
      "source": [
        "route = \"/update_profile\"\n",
        "\n",
        "##### Answer to previous question ########\n",
        "answer = 1\n",
        "##########################################\n",
        "\n",
        "data = {\n",
        "    \"profile_id\": profile_id,\n",
        "    \"answer\": answer,\n",
        "    # Include additional variables you want in the body of the request here\n",
        "}\n",
        "\n",
        "r = requests.post(\n",
        "    f'{base_url}{route}',\n",
        "    data=data\n",
        ")\n",
        "\n",
        "r = json.loads(r.text)\n",
        "\n",
        "print(r)\n",
        "\n",
        "question_number = list(r.keys())[0].rpartition('_')[-1]\n",
        "\n",
        "try:\n",
        "    display(HTML(r[f'message_0_{question_number}']))\n",
        "    display(HTML(r[f'message_1_{question_number}']))\n",
        "except:\n",
        "    print(r)"
      ]
    },
    {
      "cell_type": "markdown",
      "metadata": {
        "id": "tYNUi_yJsxMt"
      },
      "source": [
        "# Posterior Estimates\n",
        "\n",
        "Route: /estimates"
      ]
    },
    {
      "cell_type": "markdown",
      "metadata": {
        "id": "5vL7LIx8mOhB"
      },
      "source": [
        "## POST\n",
        "API request to update profile with a given answer and return estimates"
      ]
    },
    {
      "cell_type": "code",
      "execution_count": 6,
      "metadata": {
        "colab": {
          "base_uri": "https://localhost:8080/"
        },
        "id": "A1bGJA65nesr",
        "outputId": "f5c87825-ccfa-4491-91ca-f823abf3b6a6"
      },
      "outputs": [
        {
          "name": "stdout",
          "output_type": "stream",
          "text": [
            "{'blue_ink': {'mean': 0.4901820336979743, 'median': 0.47102823611691447, 'std': 0.6802569099097395}, 'gel_pen': {'mean': 0.122504593961262, 'median': 0.13201784078931866, 'std': 0.7826118657866036}, 'mu': {'mean': 5.235745459706961, 'median': 5.176212405345765, 'std': 2.666914803484577}}\n"
          ]
        }
      ],
      "source": [
        "route = \"/estimates\"\n",
        "data = {\n",
        "    \"profile_id\": profile_id,\n",
        "    \"answer\": '1'\n",
        "}\n",
        "\n",
        "r = requests.post(\n",
        "    f'{base_url}{route}',\n",
        "    data=data\n",
        ")\n",
        "\n",
        "r = json.loads(r.text)\n",
        "\n",
        "print(r)"
      ]
    },
    {
      "cell_type": "markdown",
      "metadata": {
        "id": "TL6W8-pzs-er"
      },
      "source": [
        "## GET\n",
        "API request toreturn estimates for a given profile"
      ]
    },
    {
      "cell_type": "code",
      "execution_count": 7,
      "metadata": {
        "colab": {
          "base_uri": "https://localhost:8080/"
        },
        "id": "P6dz_pIUtHvL",
        "outputId": "75e13d0a-7b64-4a4a-8cd9-ced3e351cf5c"
      },
      "outputs": [
        {
          "name": "stdout",
          "output_type": "stream",
          "text": [
            "{'mu': {'median': '5.176212405345765', 'mean': '5.235745459706961', 'std': '2.666914803484577'}, 'blue_ink': {'median': '0.47102823611691447', 'mean': '0.4901820336979743', 'std': '0.6802569099097395'}, 'gel_pen': {'median': '0.13201784078931866', 'mean': '0.122504593961262', 'std': '0.7826118657866036'}}\n"
          ]
        }
      ],
      "source": [
        "route = \"/estimates\"\n",
        "params = {\n",
        "    \"profile_id\": profile_id,\n",
        "}\n",
        "\n",
        "r = requests.get(\n",
        "    f'{base_url}{route}',\n",
        "    params=params\n",
        ")\n",
        "\n",
        "r = json.loads(r.text)\n",
        "\n",
        "print(r)"
      ]
    }
  ],
  "metadata": {
    "colab": {
      "collapsed_sections": [
        "iiypzqH7SuQd"
      ],
      "provenance": []
    },
    "kernelspec": {
      "display_name": "Python 3",
      "name": "python3"
    },
    "language_info": {
      "codemirror_mode": {
        "name": "ipython",
        "version": 3
      },
      "file_extension": ".py",
      "mimetype": "text/x-python",
      "name": "python",
      "nbconvert_exporter": "python",
      "pygments_lexer": "ipython3",
      "version": "3.9.18"
    }
  },
  "nbformat": 4,
  "nbformat_minor": 0
}
